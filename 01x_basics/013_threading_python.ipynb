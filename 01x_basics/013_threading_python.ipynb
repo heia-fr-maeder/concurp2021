{
 "metadata": {
  "language_info": {
   "codemirror_mode": {
    "name": "ipython",
    "version": 3
   },
   "file_extension": ".py",
   "mimetype": "text/x-python",
   "name": "python",
   "nbconvert_exporter": "python",
   "pygments_lexer": "ipython3",
   "version": "3.8.5-final"
  },
  "orig_nbformat": 2,
  "kernelspec": {
   "name": "python_defaultSpec_1600158219693",
   "display_name": "Python 3.8.5 64-bit ('hefr': virtualenv)"
  }
 },
 "nbformat": 4,
 "nbformat_minor": 2,
 "cells": [
  {
   "cell_type": "code",
   "execution_count": 1,
   "metadata": {},
   "outputs": [],
   "source": [
    "%load_ext pycodestyle_magic\n",
    "%pycodestyle_on\n"
   ]
  },
  {
   "source": [
    "# Threading in Python\n",
    "\n",
    "We show the basics in Python threading. \n",
    "\n",
    "*Remember: the threading can be replaced by multiprocessing*\n",
    "\n",
    "## Threading \n"
   ],
   "cell_type": "markdown",
   "metadata": {}
  },
  {
   "cell_type": "code",
   "execution_count": 5,
   "metadata": {
    "tags": []
   },
   "outputs": [
    {
     "output_type": "stream",
     "name": "stdout",
     "text": "I am thread, with the thread_id: 123145565630464\nI am thread, with the thread_id: 123145582419968\nI am thread, with the thread_id: 123145565630464\nI am thread, with the thread_id: 123145565630464\n"
    }
   ],
   "source": [
    "import threading\n",
    "\n",
    "NB_THREADS = 4\n",
    "\n",
    "\n",
    "def worker():\n",
    "    print('I am thread, with the thread_id: ' + str(threading.get_ident()))\n",
    "\n",
    "\n",
    "thread_list = []\n",
    "# create the threads\n",
    "for i in range(NB_THREADS):\n",
    "    thread = threading.Thread(target=worker)\n",
    "    thread_list.append(thread)\n",
    "\n",
    "# start the threads\n",
    "for thread in thread_list:\n",
    "    thread.start()"
   ]
  },
  {
   "source": [
    "## Threads with arguments\n",
    "\n",
    "The arguments are passed at the beginning, when the thread is created `Thread(target=.., args=..)`\n",
    "\n",
    "In addition to this kind of arguments passing, the arguments can be passed as key-value pairs (**kwargs). See here https://realpython.com/python-kwargs-and-args/ "
   ],
   "cell_type": "markdown",
   "metadata": {}
  },
  {
   "cell_type": "code",
   "execution_count": 7,
   "metadata": {
    "tags": []
   },
   "outputs": [
    {
     "output_type": "stream",
     "name": "stderr",
     "text": "7:80: E501 line too long (82 > 79 characters)\nI am thread (0) with the name SuperName\n\nI am thread (1) with the name SuperName\nI am thread (2) with the name SuperName\n\n\nI am thread (3) with the name SuperName\n\n"
    }
   ],
   "source": [
    "import threading\n",
    "\n",
    "NB_THREADS = 4\n",
    "\n",
    "\n",
    "def worker(number, description):\n",
    "    print('I am thread (' + str(number) + ') with the name ' + description + '\\n')\n",
    "\n",
    "\n",
    "thread_list = []\n",
    "TH_NAME = \"SuperName\"\n",
    "# create the threads\n",
    "for i in range(NB_THREADS):\n",
    "    thread = threading.Thread(target=worker, args=(i, TH_NAME))\n",
    "    thread_list.append(thread)\n",
    "\n",
    "# start the threads\n",
    "for thread in thread_list:\n",
    "    thread.start()"
   ]
  },
  {
   "source": [
    "## Threading a class"
   ],
   "cell_type": "markdown",
   "metadata": {}
  },
  {
   "cell_type": "code",
   "execution_count": 11,
   "metadata": {
    "tags": []
   },
   "outputs": [
    {
     "output_type": "stream",
     "name": "stdout",
     "text": "Running\nRunningRunning\nRunning\n\n"
    }
   ],
   "source": [
    "import threading\n",
    "\n",
    "NB_THREADS = 4\n",
    "\n",
    "\n",
    "class MyThread(threading.Thread):\n",
    "    def __init__(self):\n",
    "        super(MyThread, self).__init__()\n",
    "        # Can setup other things before the thread starts\n",
    "\n",
    "    def run(self):\n",
    "        print(\"Running\")\n",
    "\n",
    "\n",
    "thread_list = []\n",
    "TH_NAME = \"SuperName\"\n",
    "# create the threads\n",
    "for i in range(NB_THREADS):\n",
    "    thread = MyThread()\n",
    "    thread_list.append(thread)\n",
    "\n",
    "# start the threads\n",
    "for thread in thread_list:\n",
    "    thread.start()"
   ]
  },
  {
   "cell_type": "code",
   "execution_count": null,
   "metadata": {},
   "outputs": [],
   "source": []
  }
 ]
}